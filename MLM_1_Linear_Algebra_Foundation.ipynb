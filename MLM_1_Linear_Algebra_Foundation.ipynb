{
  "nbformat": 4,
  "nbformat_minor": 0,
  "metadata": {
    "colab": {
      "name": "MLM - 1 - Linear Algebra Foundation.ipynb",
      "provenance": [],
      "authorship_tag": "ABX9TyPUBgVn2UyPSYjbwCE3GKTK",
      "include_colab_link": true
    },
    "kernelspec": {
      "name": "python3",
      "display_name": "Python 3"
    }
  },
  "cells": [
    {
      "cell_type": "markdown",
      "metadata": {
        "id": "view-in-github",
        "colab_type": "text"
      },
      "source": [
        "<a href=\"https://colab.research.google.com/github/KeshavChaurasia/machine-learning-mastery/blob/master/MLM_1_Linear_Algebra_Foundation.ipynb\" target=\"_parent\"><img src=\"https://colab.research.google.com/assets/colab-badge.svg\" alt=\"Open In Colab\"/></a>"
      ]
    },
    {
      "cell_type": "markdown",
      "metadata": {
        "id": "DslUaxVVpTwS",
        "colab_type": "text"
      },
      "source": [
        "Introduction to Numpy"
      ]
    },
    {
      "cell_type": "code",
      "metadata": {
        "id": "YSKVJvcupGGA",
        "colab_type": "code",
        "colab": {
          "base_uri": "https://localhost:8080/",
          "height": 68
        },
        "outputId": "e30eb2bf-2dd1-44c3-9827-238b56c06698"
      },
      "source": [
        "# Basic numpy instructions \n",
        "# np.ndarray() , dtype, shape\n",
        "import numpy as np\n",
        "\n",
        "a = np.array([1.0, 2.0, 3.0])\n",
        "\n",
        "print(a)\n",
        "print(a.shape)\n",
        "print(a.dtype)"
      ],
      "execution_count": 3,
      "outputs": [
        {
          "output_type": "stream",
          "text": [
            "[1. 2. 3.]\n",
            "(3,)\n",
            "float64\n"
          ],
          "name": "stdout"
        }
      ]
    },
    {
      "cell_type": "code",
      "metadata": {
        "id": "jOdfpw9rpay1",
        "colab_type": "code",
        "colab": {
          "base_uri": "https://localhost:8080/",
          "height": 153
        },
        "outputId": "09c198d3-d6bd-4ad4-9a79-b5663a64a160"
      },
      "source": [
        "  # function to create numpy array\n",
        "  # np.empty(), np.zeros(), np.ones()\n",
        "  import numpy as np\n",
        "\n",
        "  a = np.empty([3,3])\n",
        "  print(a)\n",
        "\n",
        "  b = np.zeros([3,3])\n",
        "  print(b)\n",
        "\n",
        "  c = np.ones([2,2])\n",
        "  print(c)"
      ],
      "execution_count": 7,
      "outputs": [
        {
          "output_type": "stream",
          "text": [
            "[[0. 0. 0.]\n",
            " [0. 0. 0.]\n",
            " [0. 0. 0.]]\n",
            "[[0. 0. 0.]\n",
            " [0. 0. 0.]\n",
            " [0. 0. 0.]]\n",
            "[[1. 1.]\n",
            " [1. 1.]]\n"
          ],
          "name": "stdout"
        }
      ]
    },
    {
      "cell_type": "code",
      "metadata": {
        "id": "lB0PrxtJqRng",
        "colab_type": "code",
        "colab": {
          "base_uri": "https://localhost:8080/",
          "height": 136
        },
        "outputId": "a16f1f01-3e95-44d0-c61e-43742ab8f707"
      },
      "source": [
        "# Combining Arrays\n",
        "# Vertical stacking, Horizontal Stacking\n",
        "import numpy as np\n",
        "\n",
        "a1 = np.array([1,2,3])\n",
        "print(a1)\n",
        "\n",
        "a2 = np.array([4,5,6])\n",
        "print(a2)\n",
        "\n",
        "#create vertical stack\n",
        "a3 = np.vstack((a1,a2))\n",
        "print(a3)\n",
        "print(a3.shape)\n",
        "\n",
        "#create horizontal stack\n",
        "a4 = np.hstack((a1,a2))\n",
        "print(a4)\n",
        "print(a4.shape)"
      ],
      "execution_count": 12,
      "outputs": [
        {
          "output_type": "stream",
          "text": [
            "[1 2 3]\n",
            "[4 5 6]\n",
            "[[1 2 3]\n",
            " [4 5 6]]\n",
            "(2, 3)\n",
            "[1 2 3 4 5 6]\n",
            "(6,)\n"
          ],
          "name": "stdout"
        }
      ]
    },
    {
      "cell_type": "markdown",
      "metadata": {
        "id": "IiTtddx-rnbW",
        "colab_type": "text"
      },
      "source": [
        "Index, Slice and Reshape Numpy arrays"
      ]
    },
    {
      "cell_type": "code",
      "metadata": {
        "id": "qLyvLHaTqyRp",
        "colab_type": "code",
        "colab": {
          "base_uri": "https://localhost:8080/",
          "height": 85
        },
        "outputId": "b7f138c9-a04c-4c3a-ce05-5182d264da39"
      },
      "source": [
        "# 1-D list to Array\n",
        "import numpy as np\n",
        "\n",
        "# list\n",
        "data = [1,2,3,4,5]\n",
        "print(data)\n",
        "print(type(data))\n",
        "\n",
        "# ndarray\n",
        "data = np.array(data)\n",
        "print(data)\n",
        "print(type(data))"
      ],
      "execution_count": 15,
      "outputs": [
        {
          "output_type": "stream",
          "text": [
            "[1, 2, 3, 4, 5]\n",
            "<class 'list'>\n",
            "[1 2 3 4 5]\n",
            "<class 'numpy.ndarray'>\n"
          ],
          "name": "stdout"
        }
      ]
    },
    {
      "cell_type": "code",
      "metadata": {
        "id": "9UFst-ngr-eH",
        "colab_type": "code",
        "colab": {
          "base_uri": "https://localhost:8080/",
          "height": 119
        },
        "outputId": "1836f774-1804-4a81-e7ff-d6de29460a70"
      },
      "source": [
        "# 2-D List to Array\n",
        "import numpy as np\n",
        "\n",
        "#list\n",
        "data = [[11,11],\n",
        "        [22,22],\n",
        "        [33,33]]\n",
        "print(data)\n",
        "print(type(data))\n",
        "\n",
        "#ndarray\n",
        "data = np.array(data)\n",
        "print(data)\n",
        "print(type(data))"
      ],
      "execution_count": 17,
      "outputs": [
        {
          "output_type": "stream",
          "text": [
            "[[11, 11], [22, 22], [33, 33]]\n",
            "<class 'list'>\n",
            "[[11 11]\n",
            " [22 22]\n",
            " [33 33]]\n",
            "<class 'numpy.ndarray'>\n"
          ],
          "name": "stdout"
        }
      ]
    },
    {
      "cell_type": "code",
      "metadata": {
        "id": "tCEtuOO4sblY",
        "colab_type": "code",
        "colab": {
          "base_uri": "https://localhost:8080/",
          "height": 85
        },
        "outputId": "35f07d44-49d6-4d5a-8ed5-7baf59041c9c"
      },
      "source": [
        "# indexing\n",
        "import numpy as np\n",
        "\n",
        "data = np.array([1,2,3,4])\n",
        "print(data[0])\n",
        "\n",
        "data = np.array([[1,2],[2,3]])\n",
        "print(data[0])\n",
        "print(data[0][0])\n",
        "print(data[0,0])"
      ],
      "execution_count": 20,
      "outputs": [
        {
          "output_type": "stream",
          "text": [
            "1\n",
            "[1 2]\n",
            "1\n",
            "1\n"
          ],
          "name": "stdout"
        }
      ]
    },
    {
      "cell_type": "code",
      "metadata": {
        "id": "XZa1VaAespJz",
        "colab_type": "code",
        "colab": {
          "base_uri": "https://localhost:8080/",
          "height": 68
        },
        "outputId": "836d1d50-28fe-423f-af87-15cc0769d617"
      },
      "source": [
        "# Array slicing\n",
        "# data[from:to]\n",
        "# 1-D slicing\n",
        "\n",
        "import numpy as np\n",
        "\n",
        "data = np.array([11,22,33,44,55])\n",
        "print(data[:])  # [11 22 33 44 55]\n",
        "print(data[:1]) # [11]\n",
        "print(data[-2:]) # [44 55]"
      ],
      "execution_count": 23,
      "outputs": [
        {
          "output_type": "stream",
          "text": [
            "[11 22 33 44 55]\n",
            "[11]\n",
            "[44 55]\n"
          ],
          "name": "stdout"
        }
      ]
    },
    {
      "cell_type": "code",
      "metadata": {
        "id": "D7Dlx4sJtHv3",
        "colab_type": "code",
        "colab": {
          "base_uri": "https://localhost:8080/",
          "height": 85
        },
        "outputId": "cbf0703e-5c0d-4cbc-9e29-14a7341566f8"
      },
      "source": [
        "# 2-D slicing\n",
        "import numpy as np\n",
        "\n",
        "data = np.array([\n",
        "                 [11,22,33],\n",
        "                 [44,55,66],\n",
        "                 [77,88,99]\n",
        "])\n",
        "X, y = data[:,:-1], data[:,-1]\n",
        "print(X)\n",
        "print(y)"
      ],
      "execution_count": 24,
      "outputs": [
        {
          "output_type": "stream",
          "text": [
            "[[11 22]\n",
            " [44 55]\n",
            " [77 88]]\n",
            "[33 66 99]\n"
          ],
          "name": "stdout"
        }
      ]
    },
    {
      "cell_type": "code",
      "metadata": {
        "id": "RK0ud5sru8vZ",
        "colab_type": "code",
        "colab": {
          "base_uri": "https://localhost:8080/",
          "height": 68
        },
        "outputId": "ab800cb4-3d67-4b10-8ebc-fb49936ad3bd"
      },
      "source": [
        "# Split Train and test Rows\n",
        "\n",
        "import numpy as np\n",
        "\n",
        "data = np.array([\n",
        "                 [11,22,33],\n",
        "                 [44,55,66],\n",
        "                 [77,88,99]\n",
        "])\n",
        "\n",
        "split = 2\n",
        "\n",
        "train,test = data[:split, :], data[split:, :]\n",
        "print(train)\n",
        "print(test)"
      ],
      "execution_count": 26,
      "outputs": [
        {
          "output_type": "stream",
          "text": [
            "[[11 22 33]\n",
            " [44 55 66]]\n",
            "[[77 88 99]]\n"
          ],
          "name": "stdout"
        }
      ]
    },
    {
      "cell_type": "code",
      "metadata": {
        "id": "jMQViXd0yPUh",
        "colab_type": "code",
        "colab": {}
      },
      "source": [
        ""
      ],
      "execution_count": null,
      "outputs": []
    }
  ]
}